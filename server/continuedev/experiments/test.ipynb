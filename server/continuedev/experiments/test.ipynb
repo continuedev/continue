{
 "cells": [
  {
   "cell_type": "code",
   "execution_count": null,
   "metadata": {},
   "outputs": [
    {
     "name": "stderr",
     "output_type": "stream",
     "text": [
      "/Users/natesesti/Desktop/continue/server/.venv/lib/python3.11/site-packages/tqdm/auto.py:21: TqdmWarning: IProgress not found. Please update jupyter and ipywidgets. See https://ipywidgets.readthedocs.io/en/stable/user_install.html\n",
      "  from .autonotebook import tqdm as notebook_tqdm\n",
      "[2023-10-24 20:12:10,353] [DEBUG] New session: None\n",
      "[2023-10-24 20:12:10,359] [DEBUG] Loaded Continue config file from /Users/natesesti/.continue/config.py\n",
      "Unclosed client session\n",
      "client_session: <aiohttp.client.ClientSession object at 0x139471a90>\n",
      "[2023-10-24 20:12:10,416] [DEBUG] Starting context manager\n"
     ]
    },
    {
     "name": "stderr",
     "output_type": "stream",
     "text": [
      "[2023-10-24 20:12:10,465] [DEBUG] Loading Meilisearch index...\n",
      "[2023-10-24 20:12:10,560] [DEBUG] Loaded 0 documents into meilisearch in 0.008828163146972656 seconds for context provider code\n",
      "[2023-10-24 20:12:10,569] [DEBUG] Loaded 1 documents into meilisearch in 0.018381834030151367 seconds for context provider search\n",
      "[2023-10-24 20:12:10,580] [DEBUG] Loaded 1 documents into meilisearch in 0.029497146606445312 seconds for context provider url\n",
      "[2023-10-24 20:12:10,588] [DEBUG] Loaded 1 documents into meilisearch in 0.03736305236816406 seconds for context provider terminal\n",
      "[2023-10-24 20:12:10,594] [DEBUG] Loaded 1 documents into meilisearch in 0.04324007034301758 seconds for context provider diff\n",
      "[2023-10-24 20:12:10,597] [DEBUG] Loaded 150 documents into meilisearch in 0.04632210731506348 seconds for context provider file\n",
      "[2023-10-24 20:12:10,599] [DEBUG] Loaded Meilisearch index\n"
     ]
    }
   ],
   "source": [
    "import json\n",
    "import os\n",
    "from typing import List\n",
    "\n",
    "from continuedev.core.sdk import ContinueSDK\n",
    "from continuedev.libs.index.chunkers import Chunk\n",
    "from continuedev.headless import start_headless_session\n",
    "from continuedev.libs.index.pipelines.main import main_retrieval_pipeline\n",
    "\n",
    "session = await start_headless_session(directory=\"/Users/natesesti/Desktop/continue/server/continuedev\")\n",
    "sdk: ContinueSDK = session.autopilot.continue_sdk"
   ]
  },
  {
   "cell_type": "code",
   "execution_count": null,
   "metadata": {},
   "outputs": [],
   "source": [
    "print(sdk.models.summarize)\n",
    "\n",
    "async def f(q: str):\n",
    "    return await main_retrieval_pipeline(q, sdk)"
   ]
  },
  {
   "cell_type": "code",
   "execution_count": 4,
   "metadata": {},
   "outputs": [
    {
     "name": "stderr",
     "output_type": "stream",
     "text": [
      "Unclosed client session\n",
      "client_session: <aiohttp.client.ClientSession object at 0x13948a010>\n"
     ]
    },
    {
     "name": "stdout",
     "output_type": "stream",
     "text": [
      "{'basePath': '/Users/natesesti/Desktop/continue/server/continuedev', 'questions': [{'q': 'How does the Continue FastAPI server work?', 'files': ['server/main.py', 'server/gui.py', 'server/ide.py']}, {'q': 'Where is logic for pruning the prompt tokens?', 'files': ['libs/util/count_tokens.py', 'libs/llm/base.py']}, {'q': 'Where does codebase indexing happen?', 'files': ['plugins/steps/chroma.py', 'libs/index/indices/chroma_index.py', 'libs/index/indices/meilisearch_index.py', 'libs/index/indices/base.py', 'core/context.py']}, {'q': 'How is meilisearch used?', 'files': ['plugins/steps/chroma.py', 'libs/index/indices/meilisearch_index.py', 'libs/index/indices/base.py', 'core/context.py', 'server/meilisearch_server.py']}]}\n"
     ]
    }
   ],
   "source": [
    "with open(\"y.json\", \"r\") as file:\n",
    "    data = json.load(file)\n",
    "\n",
    "print(data)\n",
    "questions = data[\"questions\"]\n",
    "base_path = data[\"basePath\"]\n",
    "\n",
    "def abs_paths(question):\n",
    "    return list(map(\n",
    "        lambda x: os.path.join(base_path, x),\n",
    "        question[\"files\"]\n",
    "    ))\n",
    "\n",
    "def in_y(chunk: Chunk, question):\n",
    "    return chunk.document_id in abs_paths(question)\n",
    "\n",
    "def f1_score(chunks: List[Chunk], question) -> float:\n",
    "    chosen_files = list(set(map(lambda c: c.document_id, chunks)))\n",
    "    actual_files = abs_paths(question)\n",
    "    tp = len(list(filter(lambda x: x in actual_files, chosen_files)))\n",
    "    fp = len(chosen_files) - tp\n",
    "    fn = len(actual_files) - tp\n",
    "    if tp == 0:\n",
    "        return 0\n",
    "\n",
    "    return 2 * tp / (2 * tp + fp + fn)"
   ]
  },
  {
   "cell_type": "code",
   "execution_count": 6,
   "metadata": {},
   "outputs": [
    {
     "name": "stdout",
     "output_type": "stream",
     "text": [
      "Scanning 50 files...\n",
      "Selecting most important files...\n",
      "0.16666666666666666\n",
      "Scanning 50 files...\n",
      "Selecting most important files...\n",
      "0.4444444444444444\n",
      "Scanning 50 files...\n",
      "Selecting most important files...\n",
      "0.5\n",
      "Scanning 50 files...\n",
      "Selecting most important files...\n",
      "0.5454545454545454\n",
      "[0.16666666666666666, 0.4444444444444444, 0.5, 0.5454545454545454]\n",
      "0.41414141414141414\n"
     ]
    }
   ],
   "source": [
    "scores = []\n",
    "for question in questions:\n",
    "    chunks = await f(question[\"q\"])\n",
    "    score = f1_score(chunks, question)\n",
    "    print(score)\n",
    "    scores.append(score)\n",
    "\n",
    "print(scores)\n",
    "print(sum(scores) / len(scores))"
   ]
  },
  {
   "cell_type": "code",
   "execution_count": null,
   "metadata": {},
   "outputs": [],
   "source": []
  }
 ],
 "metadata": {
  "kernelspec": {
   "display_name": ".venv",
   "language": "python",
   "name": "python3"
  },
  "language_info": {
   "codemirror_mode": {
    "name": "ipython",
    "version": 3
   },
   "file_extension": ".py",
   "mimetype": "text/x-python",
   "name": "python",
   "nbconvert_exporter": "python",
   "pygments_lexer": "ipython3",
   "version": "3.11.6"
  }
 },
 "nbformat": 4,
 "nbformat_minor": 2
}
